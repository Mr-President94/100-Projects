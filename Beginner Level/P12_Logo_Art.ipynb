{
 "cells": [
  {
   "cell_type": "code",
   "execution_count": 1,
   "id": "6c3d59e8",
   "metadata": {},
   "outputs": [],
   "source": [
    "logo = \"\"\"\n",
    "    __  ___       __             \n",
    "   / / / (_)___ _/ /_  ___  _____\n",
    "  / /_/ / / __ `/ __ \\/ _ \\/ ___/\n",
    " / __  / / /_/ / / / /  __/ /    \n",
    "/_/ ///_/\\__, /_/ /_/\\___/_/     \n",
    "   / /  /____/_      _____  _____\n",
    "  / /   / __ \\ | /| / / _ \\/ ___/\n",
    " / /___/ /_/ / |/ |/ /  __/ /    \n",
    "/_____/\\____/|__/|__/\\___/_/     \n",
    "\"\"\"\n",
    "\n",
    "vs = \"\"\"\n",
    " _    __    \n",
    "| |  / /____\n",
    "| | / / ___/\n",
    "| |/ (__  ) \n",
    "|___/____(_)\n",
    "\"\"\""
   ]
  },
  {
   "cell_type": "code",
   "execution_count": null,
   "id": "61bc3cdf",
   "metadata": {},
   "outputs": [],
   "source": []
  }
 ],
 "metadata": {
  "kernelspec": {
   "display_name": "Python 3 (ipykernel)",
   "language": "python",
   "name": "python3"
  },
  "language_info": {
   "codemirror_mode": {
    "name": "ipython",
    "version": 3
   },
   "file_extension": ".py",
   "mimetype": "text/x-python",
   "name": "python",
   "nbconvert_exporter": "python",
   "pygments_lexer": "ipython3",
   "version": "3.9.13"
  }
 },
 "nbformat": 4,
 "nbformat_minor": 5
}
