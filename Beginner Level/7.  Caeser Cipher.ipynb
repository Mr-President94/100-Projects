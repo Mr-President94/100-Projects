{
 "cells": [
  {
   "cell_type": "markdown",
   "id": "de686e8a",
   "metadata": {},
   "source": [
    "# Caeser Cipher\n",
    "\n",
    "- This project is about simple encryption and decryption of messages by shifting their positions in the series of alphabets by a certain number\n",
    "- For ex. if the message is `abc`, and shift is decided as 3, then the encrypted message becomes `def`\n",
    "- We would also be making sure if the shift of number is greater than 26, i,e,. the number of alphabets that exist, it should again come back to the letter `a` and start counting again as it goes beyond 26\n",
    "- We will also be giving user to run this program as many times as he/she wants. This can also enable them to check of their decoding works"
   ]
  },
  {
   "cell_type": "code",
   "execution_count": 1,
   "id": "dab7ddfa",
   "metadata": {},
   "outputs": [],
   "source": [
    "# creating logo for our program\n",
    "logo = \"\"\"           \n",
    " ,adPPYba, ,adPPYYba,  ,adPPYba, ,adPPYba, ,adPPYYba, 8b,dPPYba,  \n",
    "a8\"     \"\" \"\"     `Y8 a8P_____88 I8[    \"\" \"\"     `Y8 88P'   \"Y8  \n",
    "8b         ,adPPPPP88 8PP\"\"\"\"\"\"\"  `\"Y8ba,  ,adPPPPP88 88          \n",
    "\"8a,   ,aa 88,    ,88 \"8b,   ,aa aa    ]8I 88,    ,88 88          \n",
    " `\"Ybbd8\"' `\"8bbdP\"Y8  `\"Ybbd8\"' `\"YbbdP\"' `\"8bbdP\"Y8 88   \n",
    "            88             88                                 \n",
    "           \"\"             88                                 \n",
    "                          88                                 \n",
    " ,adPPYba, 88 8b,dPPYba,  88,dPPYba,   ,adPPYba, 8b,dPPYba,  \n",
    "a8\"     \"\" 88 88P'    \"8a 88P'    \"8a a8P_____88 88P'   \"Y8  \n",
    "8b         88 88       d8 88       88 8PP\"\"\"\"\"\"\" 88          \n",
    "\"8a,   ,aa 88 88b,   ,a8\" 88       88 \"8b,   ,aa 88          \n",
    " `\"Ybbd8\"' 88 88`YbbdP\"'  88       88  `\"Ybbd8\"' 88          \n",
    "              88                                             \n",
    "              88           \n",
    "\"\"\""
   ]
  },
  {
   "cell_type": "markdown",
   "id": "eb2a25c4",
   "metadata": {},
   "source": [
    "### Creating list of alphabets:"
   ]
  },
  {
   "cell_type": "code",
   "execution_count": 2,
   "id": "c9072fc0",
   "metadata": {},
   "outputs": [],
   "source": [
    "alphabet = ['a', 'b', 'c', 'd', 'e', 'f', 'g', 'h', 'i', 'j', 'k', 'l', 'm', 'n', 'o', 'p', 'q', 'r', 's', 't',\n",
    "            'u', 'v', 'w', 'x', 'y', 'z']"
   ]
  },
  {
   "cell_type": "markdown",
   "id": "0e4db80f",
   "metadata": {},
   "source": [
    "### Creating a function to cipher a text:\n",
    "\n",
    "Things to consider:\n",
    "- If the text is a number or symbol, we don't want to shift it or cipher it\n",
    "- Make sure to handle cases where shift is greater than 26\n",
    "- Give user a chance to either encode or decode"
   ]
  },
  {
   "cell_type": "code",
   "execution_count": 3,
   "id": "339d3abb",
   "metadata": {},
   "outputs": [],
   "source": [
    "def caeser(input_text, shift_amount, cipher_method):\n",
    "    caeser_text = \"\"\n",
    "    for x in input_text:\n",
    "        if x not in alphabet:\n",
    "            caeser_text += x\n",
    "        else:\n",
    "            pos = alphabet.index(x)\n",
    "            if cipher_method == \"encode\":\n",
    "                if pos + shift_amount > 25:\n",
    "                    caeser_text += alphabet[((pos + shift_amount) - 25) - 1]  # handling alphabets at the end of list\n",
    "                else:\n",
    "                    caeser_text += alphabet[pos + shift_amount]\n",
    "            else:\n",
    "                caeser_text += alphabet[pos - shift_amount]   # index will be negative 1 and onwards\n",
    "\n",
    "    print(f\"Your {cipher_method}d message is: {caeser_text}\")"
   ]
  },
  {
   "cell_type": "markdown",
   "id": "f63ceb5f",
   "metadata": {},
   "source": [
    "### Taking inputs from user and asking whether or not to continue ciphering:"
   ]
  },
  {
   "cell_type": "code",
   "execution_count": 6,
   "id": "19e8c8cd",
   "metadata": {},
   "outputs": [
    {
     "name": "stdout",
     "output_type": "stream",
     "text": [
      "           \n",
      " ,adPPYba, ,adPPYYba,  ,adPPYba, ,adPPYba, ,adPPYYba, 8b,dPPYba,  \n",
      "a8\"     \"\" \"\"     `Y8 a8P_____88 I8[    \"\" \"\"     `Y8 88P'   \"Y8  \n",
      "8b         ,adPPPPP88 8PP\"  `\"Y8ba,  ,adPPPPP88 88          \n",
      "\"8a,   ,aa 88,    ,88 \"8b,   ,aa aa    ]8I 88,    ,88 88          \n",
      " `\"Ybbd8\"' `\"8bbdP\"Y8  `\"Ybbd8\"' `\"YbbdP\"' `\"8bbdP\"Y8 88   \n",
      "            88             88                                 \n",
      "           \"\"             88                                 \n",
      "                          88                                 \n",
      " ,adPPYba, 88 8b,dPPYba,  88,dPPYba,   ,adPPYba, 8b,dPPYba,  \n",
      "a8\"     \"\" 88 88P'    \"8a 88P'    \"8a a8P_____88 88P'   \"Y8  \n",
      "8b         88 88       d8 88       88 8PP\" 88          \n",
      "\"8a,   ,aa 88 88b,   ,a8\" 88       88 \"8b,   ,aa 88          \n",
      " `\"Ybbd8\"' 88 88`YbbdP\"'  88       88  `\"Ybbd8\"' 88          \n",
      "              88                                             \n",
      "              88           \n",
      "\n",
      "Type 'encode' to encrypt, type 'decode' to decrypt:\n",
      "encode\n",
      "Type your message:\n",
      "Hello You!\n",
      "Type the shift number:\n",
      "5\n",
      "Your encoded message is: mjqqt dtz!\n",
      "Do you want to continue ciphering? Yes or No\n",
      "Yes\n",
      "Type 'encode' to encrypt, type 'decode' to decrypt:\n",
      "decode\n",
      "Type your message:\n",
      "mjqqt dtz!\n",
      "Type the shift number:\n",
      "5\n",
      "Your decoded message is: hello you!\n",
      "Do you want to continue ciphering? Yes or No\n",
      "No\n",
      "Good Bye!\n"
     ]
    }
   ],
   "source": [
    "print(logo)\n",
    "\n",
    "end_cipher = False\n",
    "while not end_cipher:\n",
    "    direction = input(\"Type 'encode' to encrypt, type 'decode' to decrypt:\\n\")\n",
    "    text = input(\"Type your message:\\n\").lower()\n",
    "    shift = int(input(\"Type the shift number:\\n\"))\n",
    "    \n",
    "    shift = shift % 26          \n",
    "    # ex. if shift = 45, then we want it to go through all 26 alphabets once and then again start over when \n",
    "    # it reaches z. Then it will again have to go till 19th alphabet to complete shift of 45.\n",
    "    # The modulus (%) symbol here does just that. By doing this we gave it a shift amount less that 26.\n",
    "\n",
    "    caeser(text, shift, direction)\n",
    "\n",
    "    keep_going = input(\"Do you want to continue ciphering? Yes or No\\n\").lower()\n",
    "    if keep_going == \"no\":\n",
    "        end_cipher = True\n",
    "        print(\"Good Bye!\")"
   ]
  }
 ],
 "metadata": {
  "kernelspec": {
   "display_name": "Python 3 (ipykernel)",
   "language": "python",
   "name": "python3"
  },
  "language_info": {
   "codemirror_mode": {
    "name": "ipython",
    "version": 3
   },
   "file_extension": ".py",
   "mimetype": "text/x-python",
   "name": "python",
   "nbconvert_exporter": "python",
   "pygments_lexer": "ipython3",
   "version": "3.9.13"
  }
 },
 "nbformat": 4,
 "nbformat_minor": 5
}
