{
 "cells": [
  {
   "cell_type": "markdown",
   "id": "0b4529fb",
   "metadata": {},
   "source": [
    "# Tip Calculator\n",
    "\n",
    "This project enables you to calculate tip on a restaurant bill based on the 'x%' of the bill amount which we will taking from the user. This program will also help you split the bill amount based on the number of people you had lunch/dinner with which will also include the tip amount\n",
    "\n",
    "We'll be looking into different datatypes and how can we convert one datatype to another for calculation purposes. Other concept discussed here is about `f string` which can help us print a string and a number within the same `print` function and can also allow us to use a `variable` directly to achieve the same."
   ]
  },
  {
   "cell_type": "code",
   "execution_count": 1,
   "id": "36806a13",
   "metadata": {},
   "outputs": [
    {
     "name": "stdout",
     "output_type": "stream",
     "text": [
      "Welcome to tip calculator\n"
     ]
    }
   ],
   "source": [
    "# giving out a welcome message for the program\n",
    "print(\"Welcome to tip calculator\")"
   ]
  },
  {
   "cell_type": "code",
   "execution_count": 5,
   "id": "26f011dd",
   "metadata": {},
   "outputs": [
    {
     "name": "stdout",
     "output_type": "stream",
     "text": [
      "What was the bill amount? (in $)\n",
      "150\n"
     ]
    }
   ],
   "source": [
    "bill = float(input(\"What was the bill amount? (in $)\\n\"))"
   ]
  },
  {
   "cell_type": "markdown",
   "id": "5bafce3d",
   "metadata": {},
   "source": [
    "- Taking the bill amount as an input, while doing that we are also converting the `text` input taken from user to a `float` datatype and storing it in a variable"
   ]
  },
  {
   "cell_type": "code",
   "execution_count": 15,
   "id": "3c7de52c",
   "metadata": {},
   "outputs": [
    {
     "name": "stdout",
     "output_type": "stream",
     "text": [
      "What % of the bill would you like to tip? 10, 12 or 15? (in %)\n",
      "10\n"
     ]
    }
   ],
   "source": [
    "tip_actual = int(input(\"What % of the bill would you like to tip? 10, 12 or 15? (in %)\\n\")) \n",
    "tip_converted = (tip_actual / 100) + 1"
   ]
  },
  {
   "cell_type": "markdown",
   "id": "9f203d8d",
   "metadata": {},
   "source": [
    "- Here we are doing two things\n",
    "    \n",
    "    1. Taking the text input from the user his/her desired % of bill amount to be used for tip\n",
    "    \n",
    "    2. We are converting the % of tip into a multiplying factor which we will be directly using to multiply with the split amount that we get for each individual\n",
    "    For ex. Let's assume the bill amount is $150 and 12% of the amount is supposed to be the tip amount. \n",
    "    \n",
    "    Hence,12% of 150 = (12 / 100) x 150 = 0.12 * 150 = $18\n",
    "    \n",
    "    \n",
    "- Assuming that the bill is getting divided into 4 people, the amount that needs to be divided into 4 people would be 150 + 18 = $168\n",
    "    \n",
    "  \n",
    "- Shorter way of doing this would be multiplying 150 with 1.12, where 1 represent the 150 and 0.12 on top of that. Hence, in the `tip` variable above, we divide the input number by 100 and then add 1 to make it 1.12"
   ]
  },
  {
   "cell_type": "code",
   "execution_count": 10,
   "id": "2c0243ab",
   "metadata": {},
   "outputs": [
    {
     "name": "stdout",
     "output_type": "stream",
     "text": [
      "How many people are splitting the bill?\n",
      "4\n"
     ]
    }
   ],
   "source": [
    "# taking input for number of people the bill should be split into\n",
    "people = int(input(\"How many people are splitting the bill?\\n\"))"
   ]
  },
  {
   "cell_type": "code",
   "execution_count": 23,
   "id": "bcfcb21e",
   "metadata": {},
   "outputs": [],
   "source": [
    "# split_amount = round(((bill / people) * tip),2)\n",
    "split_amount = \"{:.2f}\".format((bill / people) * tip)"
   ]
  },
  {
   "cell_type": "markdown",
   "id": "0033a9f0",
   "metadata": {},
   "source": [
    "- the `{:.2f}` tells the code to take the number upto 2 decimal places"
   ]
  },
  {
   "cell_type": "code",
   "execution_count": 24,
   "id": "6a6e0fc0",
   "metadata": {},
   "outputs": [
    {
     "name": "stdout",
     "output_type": "stream",
     "text": [
      "\n",
      "Your bill amount is $150.0\n",
      "Your bill amount after including 10% tip will be $165.0\n",
      "After splitting the bill into 4 people, each person would have to pay: $41.25\n",
      "\n",
      "\n"
     ]
    }
   ],
   "source": [
    "print(f'''\n",
    "Your bill amount is ${bill}\n",
    "Your bill amount after including {tip_actual}% tip will be ${bill*tip}\n",
    "After splitting the bill into {people} people, each person would have to pay: ${split_amount}\n",
    "\n",
    "''')"
   ]
  }
 ],
 "metadata": {
  "kernelspec": {
   "display_name": "Python 3 (ipykernel)",
   "language": "python",
   "name": "python3"
  },
  "language_info": {
   "codemirror_mode": {
    "name": "ipython",
    "version": 3
   },
   "file_extension": ".py",
   "mimetype": "text/x-python",
   "name": "python",
   "nbconvert_exporter": "python",
   "pygments_lexer": "ipython3",
   "version": "3.9.13"
  }
 },
 "nbformat": 4,
 "nbformat_minor": 5
}
