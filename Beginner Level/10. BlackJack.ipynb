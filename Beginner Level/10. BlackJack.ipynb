{
 "cells": [
  {
   "cell_type": "markdown",
   "id": "f6f4fed7",
   "metadata": {},
   "source": [
    "# Black Jack\n",
    "\n",
    "Refer to the following link to understand the flow of Black Jack\n",
    "\n",
    "https://drive.google.com/uc?export=download&id=1rDkiHCrhaf9eX7u7yjM1qwSuyEk-rPnt"
   ]
  },
  {
   "cell_type": "code",
   "execution_count": 2,
   "id": "37fd18b5",
   "metadata": {},
   "outputs": [],
   "source": [
    "# importig libraries\n",
    "from IPython.display import clear_output\n",
    "import random"
   ]
  },
  {
   "cell_type": "code",
   "execution_count": 3,
   "id": "61f7ddbf",
   "metadata": {},
   "outputs": [],
   "source": [
    "# logo\n",
    "logo = \"\"\"\n",
    ".------.            _     _            _    _            _    \n",
    "|A_  _ |.          | |   | |          | |  (_)          | |   \n",
    "|( \\/ ).-----.     | |__ | | __ _  ___| | ___  __ _  ___| | __\n",
    "| \\  /|K /\\  |     | '_ \\| |/ _` |/ __| |/ / |/ _` |/ __| |/ /\n",
    "|  \\/ | /  \\ |     | |_) | | (_| | (__|   <| | (_| | (__|   < \n",
    "`-----| \\  / |     |_.__/|_|\\__,_|\\___|_|\\_\\ |\\__,_|\\___|_|\\_\\\\\n",
    "      |  \\/ K|                            _/ |                \n",
    "      `------'                           |__/           \n",
    "\"\"\"\n",
    "        "
   ]
  },
  {
   "cell_type": "code",
   "execution_count": 4,
   "id": "ae58eccd",
   "metadata": {},
   "outputs": [],
   "source": [
    "# deal card function\n",
    "def deal_card():\n",
    "  \"\"\"Returns a random card from the deck. 11 is Ace\"\"\"\n",
    "  cards = [11, 2, 3, 4, 5, 6, 7, 8, 9, 10, 10, 10, 10]\n",
    "  card = random.choice(cards)\n",
    "  return card"
   ]
  },
  {
   "cell_type": "code",
   "execution_count": 5,
   "id": "ac8207ca",
   "metadata": {},
   "outputs": [],
   "source": [
    "# Create a function called calculate_score() that takes a List of cards as input \n",
    "# and returns the score. \n",
    "# Look up the sum() function to help you do this.\n",
    "def calculate_score(cards):\n",
    "  \"\"\"Take a list of cards and return the score calculated from the cards\"\"\"\n",
    "\n",
    "# Inside calculate_score() check for a blackjack (a hand with only 2 cards: ace + 10) and \n",
    "# return 0 instead of the actual score. 0 will represent a blackjack in our game.\n",
    "  if sum(cards) == 21 and len(cards) == 2:\n",
    "    return 0\n",
    "# Inside calculate_score() check for an 11 (ace). \n",
    "# If the score is already over 21, remove the 11 and replace it with a 1. \n",
    "# You might need to look up append() and remove().\n",
    "  if 11 in cards and sum(cards) > 21:\n",
    "    cards.remove(11)\n",
    "    cards.append(1)\n",
    "  return sum(cards)\n"
   ]
  },
  {
   "cell_type": "code",
   "execution_count": 6,
   "id": "514aadce",
   "metadata": {},
   "outputs": [],
   "source": [
    "# Create a function called compare() and pass in the user_score and computer_score. \n",
    "# If the computer and user both have the same score, then it's a draw. If the computer has a blackjack (0), \n",
    "# then the user loses. If the user has a blackjack (0), then the user wins. If the user_score is over 21, \n",
    "# then the user loses. If the computer_score is over 21, then the computer loses. \n",
    "# If none of the above, then the player with the highest score wins.\n",
    "\n",
    "def compare(user_score, computer_score):\n",
    "  #Bug fix. If you and the computer are both over, you lose.\n",
    "  if user_score > 21 and computer_score > 21:\n",
    "    return \"You went over. You lose 😤\"\n",
    "\n",
    "\n",
    "  if user_score == computer_score:\n",
    "    return \"Draw 🙃\"\n",
    "  elif computer_score == 0:\n",
    "    return \"Lose, opponent has Blackjack 😱\"\n",
    "  elif user_score == 0:\n",
    "    return \"Win with a Blackjack 😎\"\n",
    "  elif user_score > 21:\n",
    "    return \"You went over. You lose 😭\"\n",
    "  elif computer_score > 21:\n",
    "    return \"Opponent went over. You win 😁\"\n",
    "  elif user_score > computer_score:\n",
    "    return \"You win 😃\"\n",
    "  else:\n",
    "    return \"You lose 😤\"\n"
   ]
  },
  {
   "cell_type": "code",
   "execution_count": null,
   "id": "d1857e1b",
   "metadata": {},
   "outputs": [
    {
     "name": "stdout",
     "output_type": "stream",
     "text": [
      "\n",
      ".------.            _     _            _    _            _    \n",
      "|A_  _ |.          | |   | |          | |  (_)          | |   \n",
      "|( \\/ ).-----.     | |__ | | __ _  ___| | ___  __ _  ___| | __\n",
      "| \\  /|K /\\  |     | '_ \\| |/ _` |/ __| |/ / |/ _` |/ __| |/ /\n",
      "|  \\/ | /  \\ |     | |_) | | (_| | (__|   <| | (_| | (__|   < \n",
      "`-----| \\  / |     |_.__/|_|\\__,_|\\___|_|\\_\\ |\\__,_|\\___|_|\\_\\\n",
      "      |  \\/ K|                            _/ |                \n",
      "      `------'                           |__/           \n",
      "\n",
      "   Your cards: [9, 10], current score: 19\n",
      "   Computer's first card: 11\n",
      "Type 'y' to get another card, type 'n' to pass: n\n",
      "   Your final hand: [9, 10], final score: 19\n",
      "   Computer's final hand: [11, 7], final score: 18\n",
      "You win 😃\n"
     ]
    }
   ],
   "source": [
    "def play_game():\n",
    "\n",
    "  print(logo)\n",
    "\n",
    "# Deal the user and computer 2 cards each using deal_card()\n",
    "  user_cards = []\n",
    "  computer_cards = []\n",
    "  is_game_over = False\n",
    "\n",
    "  for _ in range(2):\n",
    "    user_cards.append(deal_card())\n",
    "    computer_cards.append(deal_card())\n",
    "\n",
    "# The score will need to be rechecked with every new card drawn and the checks in Hint 9 need to be repeated until the game ends.\n",
    "\n",
    "  while not is_game_over:\n",
    "# Call calculate_score(). If the computer or the user has a blackjack (0) or if the user's score is over 21, then the game ends.\n",
    "    user_score = calculate_score(user_cards)\n",
    "    computer_score = calculate_score(computer_cards)\n",
    "    print(f\"   Your cards: {user_cards}, current score: {user_score}\")\n",
    "    print(f\"   Computer's first card: {computer_cards[0]}\")\n",
    "\n",
    "    if user_score == 0 or computer_score == 0 or user_score > 21:\n",
    "      is_game_over = True\n",
    "    else:\n",
    "# If the game has not ended, ask the user if they want to draw another card. If yes, then use the deal_card() function to add another card to the user_cards List. If no, then the game has ended.\n",
    "      user_should_deal = input(\"Type 'y' to get another card, type 'n' to pass: \")\n",
    "      if user_should_deal == \"y\":\n",
    "        user_cards.append(deal_card())\n",
    "      else:\n",
    "        is_game_over = True\n",
    "\n",
    "# Once the user is done, it's time to let the computer play. The computer should keep drawing cards as long as it has a score less than 17.\n",
    "  while computer_score != 0 and computer_score < 17:\n",
    "    computer_cards.append(deal_card())\n",
    "    computer_score = calculate_score(computer_cards)\n",
    "\n",
    "  print(f\"   Your final hand: {user_cards}, final score: {user_score}\")\n",
    "  print(f\"   Computer's final hand: {computer_cards}, final score: {computer_score}\")\n",
    "  print(compare(user_score, computer_score))\n",
    "\n",
    "# Ask the user if they want to restart the game. If they answer yes, clear the console and start a new game of blackjack and show the logo from art.py.\n",
    "while input(\"Do you want to play a game of Blackjack? Type 'y' or 'n': \") == \"y\":\n",
    "  clear_output()\n",
    "  play_game()"
   ]
  },
  {
   "cell_type": "code",
   "execution_count": null,
   "id": "a8cd09b9",
   "metadata": {},
   "outputs": [],
   "source": []
  }
 ],
 "metadata": {
  "kernelspec": {
   "display_name": "Python 3 (ipykernel)",
   "language": "python",
   "name": "python3"
  },
  "language_info": {
   "codemirror_mode": {
    "name": "ipython",
    "version": 3
   },
   "file_extension": ".py",
   "mimetype": "text/x-python",
   "name": "python",
   "nbconvert_exporter": "python",
   "pygments_lexer": "ipython3",
   "version": "3.9.13"
  }
 },
 "nbformat": 4,
 "nbformat_minor": 5
}
