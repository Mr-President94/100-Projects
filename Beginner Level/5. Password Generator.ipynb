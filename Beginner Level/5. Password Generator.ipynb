{
 "cells": [
  {
   "cell_type": "markdown",
   "id": "e3ec6442",
   "metadata": {},
   "source": [
    "# Password Generator\n",
    "\n",
    "This project revolves around the concept of randomisation and helps user generate password randomly as required. We are going to ask the users to specify the number of alphabets, numbers and symbols they want in their password and our program will generate the same in 2 different ways."
   ]
  },
  {
   "cell_type": "markdown",
   "id": "3dc2acd4",
   "metadata": {},
   "source": [
    "### Importing `random` library and declaring numbers and symbols:"
   ]
  },
  {
   "cell_type": "code",
   "execution_count": 1,
   "id": "f4db23ee",
   "metadata": {},
   "outputs": [],
   "source": [
    "import random\n",
    "letters = ['a', 'b', 'c', 'd', 'e', 'f', 'g', 'h', 'i', 'j', 'k', 'l', 'm', 'n', 'o', 'p', 'q', 'r', 's', 't', 'u',\n",
    "           'v', 'w', 'x', 'y', 'z', 'A', 'B', 'C', 'D', 'E', 'F', 'G', 'H', 'I', 'J', 'K', 'L', 'M', 'N', 'O', 'P',\n",
    "           'Q', 'R', 'S', 'T', 'U', 'V', 'W', 'X', 'Y', 'Z']\n",
    "numbers = ['0', '1', '2', '3', '4', '5', '6', '7', '8', '9']\n",
    "symbols = ['!', '#', '$', '%', '&', '(', ')', '*', '+']"
   ]
  },
  {
   "cell_type": "markdown",
   "id": "90edf049",
   "metadata": {},
   "source": [
    "### Taking inputs from user:"
   ]
  },
  {
   "cell_type": "code",
   "execution_count": 2,
   "id": "39395af3",
   "metadata": {},
   "outputs": [
    {
     "name": "stdout",
     "output_type": "stream",
     "text": [
      "Welcome to the PyPassword Generator!\n",
      "How many letters would you like in your password?\n",
      "4\n",
      "How many symbols would you like?\n",
      "3\n",
      "How many numbers would you like?\n",
      "2\n"
     ]
    }
   ],
   "source": [
    "print(\"Welcome to the PyPassword Generator!\")\n",
    "nr_letters = int(input(\"How many letters would you like in your password?\\n\"))\n",
    "nr_symbols = int(input(f\"How many symbols would you like?\\n\"))\n",
    "nr_numbers = int(input(f\"How many numbers would you like?\\n\"))"
   ]
  },
  {
   "cell_type": "markdown",
   "id": "cfe7b929",
   "metadata": {},
   "source": [
    "### Declaring an empty list:"
   ]
  },
  {
   "cell_type": "code",
   "execution_count": 3,
   "id": "0daf0bac",
   "metadata": {},
   "outputs": [],
   "source": [
    "password = []"
   ]
  },
  {
   "cell_type": "markdown",
   "id": "e1ced990",
   "metadata": {},
   "source": [
    "### Creating control flow to add random letters, symbols and numbers and appending to our blank list\n",
    "\n",
    "- We will be iterating our flow `n` no. of times where 'n' is the number of characters a user wants for alphabets, symbols and numbers. To achieve this, we will be using the inputs we took from the user\n",
    "- In order for our program to choose randomly the characters from the above declared lists of alphabets, symbols and numbers, we will be using `random.choice()` function"
   ]
  },
  {
   "cell_type": "code",
   "execution_count": 4,
   "id": "d0d9571d",
   "metadata": {},
   "outputs": [],
   "source": [
    "for i in range(0, nr_letters):\n",
    "    password.append(random.choice(letters))        # this loop will pick random element from letters 4 times\n",
    "\n",
    "for i in range(0, nr_symbols):\n",
    "    password.append(random.choice(symbols))        # this loop will pick random element from symbols 3 times\n",
    "\n",
    "for i in range(0, nr_numbers):\n",
    "    password.append(random.choice(numbers))        # this loop will pick random element from numbers 2 times"
   ]
  },
  {
   "cell_type": "markdown",
   "id": "577f953f",
   "metadata": {},
   "source": [
    "### Our current password is a list. Making it a string to suggest the user:"
   ]
  },
  {
   "cell_type": "code",
   "execution_count": 8,
   "id": "0e4fd302",
   "metadata": {},
   "outputs": [
    {
     "name": "stdout",
     "output_type": "stream",
     "text": [
      "Your password could be: HPPU$(*11\n"
     ]
    }
   ],
   "source": [
    "# turning list into string\n",
    "simple_password = \"\".join(password)\n",
    "\n",
    "print(f\"Your password could be: {simple_password}\")                          "
   ]
  },
  {
   "cell_type": "markdown",
   "id": "f18d2b75",
   "metadata": {},
   "source": [
    "### Generating more advanced password where numbers, symbols and alphabets are shuffled and random:"
   ]
  },
  {
   "cell_type": "code",
   "execution_count": 9,
   "id": "791db792",
   "metadata": {},
   "outputs": [
    {
     "name": "stdout",
     "output_type": "stream",
     "text": [
      "Your password could be: U1P1P(*H$\n"
     ]
    }
   ],
   "source": [
    "random.shuffle(password)\n",
    "\n",
    "# another way of turning list into a string\n",
    "final_password = \"\"\n",
    "for i in password:\n",
    "    final_password += i\n",
    "    \n",
    "print(f\"Your password could be: {final_password}\")"
   ]
  },
  {
   "cell_type": "markdown",
   "id": "65928c57",
   "metadata": {},
   "source": [
    "If you observe, the simple password and final password have the same elements and are shuffled randomly which is more secure"
   ]
  }
 ],
 "metadata": {
  "kernelspec": {
   "display_name": "Python 3 (ipykernel)",
   "language": "python",
   "name": "python3"
  },
  "language_info": {
   "codemirror_mode": {
    "name": "ipython",
    "version": 3
   },
   "file_extension": ".py",
   "mimetype": "text/x-python",
   "name": "python",
   "nbconvert_exporter": "python",
   "pygments_lexer": "ipython3",
   "version": "3.9.13"
  }
 },
 "nbformat": 4,
 "nbformat_minor": 5
}
