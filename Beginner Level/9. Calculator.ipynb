{
 "cells": [
  {
   "cell_type": "markdown",
   "id": "6290087b",
   "metadata": {},
   "source": [
    "# Calculator\n",
    "\n",
    "- This project is based on using dictionaries and functions together to minimize the repitition of calling different fucntions over and over\n",
    "- We will be defining a list with all set of operations and assigning it to pre-created functions by us\n",
    "- Then, we will be taking the input from user in format of symbols of operations and using those inputs to call the function for that particular operation"
   ]
  },
  {
   "cell_type": "code",
   "execution_count": 1,
   "id": "68179037",
   "metadata": {},
   "outputs": [],
   "source": [
    "# calculator logo\n",
    "logo = \"\"\"\n",
    " _____________________\n",
    "|  _________________  |\n",
    "| | Pythonista   0. | |  .----------------.  .----------------.  .----------------.  .----------------. \n",
    "| |_________________| | | .--------------. || .--------------. || .--------------. || .--------------. |\n",
    "|  ___ ___ ___   ___  | | |     ______   | || |      __      | || |   _____      | || |     ______   | |\n",
    "| | 7 | 8 | 9 | | + | | | |   .' ___  |  | || |     /  \\     | || |  |_   _|     | || |   .' ___  |  | |\n",
    "| |___|___|___| |___| | | |  / .'   \\_|  | || |    / /\\ \\    | || |    | |       | || |  / .'   \\_|  | |\n",
    "| | 4 | 5 | 6 | | - | | | |  | |         | || |   / ____ \\   | || |    | |   _   | || |  | |         | |\n",
    "| |___|___|___| |___| | | |  \\ `.___.'\\  | || | _/ /    \\ \\_ | || |   _| |__/ |  | || |  \\ `.___.'\\  | |\n",
    "| | 1 | 2 | 3 | | x | | | |   `._____.'  | || ||____|  |____|| || |  |________|  | || |   `._____.'  | |\n",
    "| |___|___|___| |___| | | |              | || |              | || |              | || |              | |\n",
    "| | . | 0 | = | | / | | | '--------------' || '--------------' || '--------------' || '--------------' |\n",
    "| |___|___|___| |___| |  '----------------'  '----------------'  '----------------'  '----------------' \n",
    "|_____________________|\n",
    "\"\"\""
   ]
  },
  {
   "cell_type": "markdown",
   "id": "21e64a9d",
   "metadata": {},
   "source": [
    "### Defining all required functions:"
   ]
  },
  {
   "cell_type": "code",
   "execution_count": 3,
   "id": "2480da19",
   "metadata": {},
   "outputs": [],
   "source": [
    "def add(n1, n2):\n",
    "    return n1 + n2\n",
    "\n",
    "def subtract(n1, n2):\n",
    "    return n1 - n2\n",
    "\n",
    "def multiply(n1, n2):\n",
    "    return n1 * n2\n",
    "\n",
    "def divide(n1, n2):\n",
    "    return n1 / n2"
   ]
  },
  {
   "cell_type": "markdown",
   "id": "aaf2c994",
   "metadata": {},
   "source": [
    "### Defining dictionary for all the functions declared above to fetch the correct function based on user selection:"
   ]
  },
  {
   "cell_type": "code",
   "execution_count": 4,
   "id": "6266d198",
   "metadata": {},
   "outputs": [],
   "source": [
    "operations = {\"+\": add, \"-\": subtract, \"*\": multiply, \"/\": divide}"
   ]
  },
  {
   "cell_type": "markdown",
   "id": "ffd01f6b",
   "metadata": {},
   "source": [
    "### Defining main calculator function:"
   ]
  },
  {
   "cell_type": "code",
   "execution_count": 5,
   "id": "bd7724cb",
   "metadata": {},
   "outputs": [],
   "source": [
    "def calculator():\n",
    "    print(logo)\n",
    "    num1 = float(input(\"What's the 1st number?: \"))\n",
    "\n",
    "    # printing all operations for user selection\n",
    "    for key in operations:\n",
    "        print(key)\n",
    "    end_calculation = False\n",
    "\n",
    "    while not end_calculation:\n",
    "        # taking input from user\n",
    "        pick_op = input(\"\\nPick an operation to perform: \")\n",
    "        \n",
    "        # taking 2nd number for operation\n",
    "        num2 = float(input(\"What's the 2nd number?: \"))\n",
    "\n",
    "        # taking the fucntion from dictionary defined above and assigning it to a variable\n",
    "        # pick_op will match with the key of our dictionary and the relevant function will be picked\n",
    "        calc = operations[pick_op]\n",
    "        \n",
    "        # using the function variable above for calculation\n",
    "        result = calc(num1, num2)\n",
    "        print(f\"{num1} {pick_op} {num2} = {result}\")\n",
    "\n",
    "        # taking input from user whether to stop or continue calculating\n",
    "        keep_going = input(f\"\"\"Type 'Y' to continue calculating with {result}\n",
    "Type 'N' to start over\n",
    "Type 'E' to exit: \"\"\").lower()\n",
    "\n",
    "        if keep_going == 'n':\n",
    "            # this will reset every value and break the loop\n",
    "            end_calculation = True \n",
    "            \n",
    "            # recursion concept is used here wherein we call the same function with a function\n",
    "            # this will start the loop again with new values\n",
    "            calculator()\n",
    "        \n",
    "        elif keep_going == 'e':\n",
    "            # while loop breaks and no further operation is performed\n",
    "            end_calculation = True\n",
    "        \n",
    "        else:\n",
    "            # to continue with the result got from previous operation, we assign the answer's value to num1\n",
    "            # if selection is Y, then we keep on carrying different/same operations with different numbers\n",
    "            num1 = result"
   ]
  },
  {
   "cell_type": "markdown",
   "id": "781e1f25",
   "metadata": {},
   "source": [
    "### Calling the calculator function:"
   ]
  },
  {
   "cell_type": "code",
   "execution_count": 7,
   "id": "5c6451fe",
   "metadata": {},
   "outputs": [
    {
     "name": "stdout",
     "output_type": "stream",
     "text": [
      "\n",
      " _____________________\n",
      "|  _________________  |\n",
      "| | Pythonista   0. | |  .----------------.  .----------------.  .----------------.  .----------------. \n",
      "| |_________________| | | .--------------. || .--------------. || .--------------. || .--------------. |\n",
      "|  ___ ___ ___   ___  | | |     ______   | || |      __      | || |   _____      | || |     ______   | |\n",
      "| | 7 | 8 | 9 | | + | | | |   .' ___  |  | || |     /  \\     | || |  |_   _|     | || |   .' ___  |  | |\n",
      "| |___|___|___| |___| | | |  / .'   \\_|  | || |    / /\\ \\    | || |    | |       | || |  / .'   \\_|  | |\n",
      "| | 4 | 5 | 6 | | - | | | |  | |         | || |   / ____ \\   | || |    | |   _   | || |  | |         | |\n",
      "| |___|___|___| |___| | | |  \\ `.___.'\\  | || | _/ /    \\ \\_ | || |   _| |__/ |  | || |  \\ `.___.'\\  | |\n",
      "| | 1 | 2 | 3 | | x | | | |   `._____.'  | || ||____|  |____|| || |  |________|  | || |   `._____.'  | |\n",
      "| |___|___|___| |___| | | |              | || |              | || |              | || |              | |\n",
      "| | . | 0 | = | | / | | | '--------------' || '--------------' || '--------------' || '--------------' |\n",
      "| |___|___|___| |___| |  '----------------'  '----------------'  '----------------'  '----------------' \n",
      "|_____________________|\n",
      "\n",
      "What's the 1st number?: 4\n",
      "+\n",
      "-\n",
      "*\n",
      "/\n",
      "\n",
      "Pick an operation to perform: +\n",
      "What's the 2nd number?: 5\n",
      "4.0 + 5.0 = 9.0\n",
      "Type 'Y' to continue calculating with 9.0\n",
      "Type 'N' to start over\n",
      "Type 'E' to exit: Y\n",
      "\n",
      "Pick an operation to perform: *\n",
      "What's the 2nd number?: 3\n",
      "9.0 * 3.0 = 27.0\n",
      "Type 'Y' to continue calculating with 27.0\n",
      "Type 'N' to start over\n",
      "Type 'E' to exit: N\n",
      "\n",
      " _____________________\n",
      "|  _________________  |\n",
      "| | Pythonista   0. | |  .----------------.  .----------------.  .----------------.  .----------------. \n",
      "| |_________________| | | .--------------. || .--------------. || .--------------. || .--------------. |\n",
      "|  ___ ___ ___   ___  | | |     ______   | || |      __      | || |   _____      | || |     ______   | |\n",
      "| | 7 | 8 | 9 | | + | | | |   .' ___  |  | || |     /  \\     | || |  |_   _|     | || |   .' ___  |  | |\n",
      "| |___|___|___| |___| | | |  / .'   \\_|  | || |    / /\\ \\    | || |    | |       | || |  / .'   \\_|  | |\n",
      "| | 4 | 5 | 6 | | - | | | |  | |         | || |   / ____ \\   | || |    | |   _   | || |  | |         | |\n",
      "| |___|___|___| |___| | | |  \\ `.___.'\\  | || | _/ /    \\ \\_ | || |   _| |__/ |  | || |  \\ `.___.'\\  | |\n",
      "| | 1 | 2 | 3 | | x | | | |   `._____.'  | || ||____|  |____|| || |  |________|  | || |   `._____.'  | |\n",
      "| |___|___|___| |___| | | |              | || |              | || |              | || |              | |\n",
      "| | . | 0 | = | | / | | | '--------------' || '--------------' || '--------------' || '--------------' |\n",
      "| |___|___|___| |___| |  '----------------'  '----------------'  '----------------'  '----------------' \n",
      "|_____________________|\n",
      "\n",
      "What's the 1st number?: 4\n",
      "+\n",
      "-\n",
      "*\n",
      "/\n",
      "\n",
      "Pick an operation to perform: -\n",
      "What's the 2nd number?: 2\n",
      "4.0 - 2.0 = 2.0\n",
      "Type 'Y' to continue calculating with 2.0\n",
      "Type 'N' to start over\n",
      "Type 'E' to exit: E\n"
     ]
    }
   ],
   "source": [
    "calculator()"
   ]
  }
 ],
 "metadata": {
  "kernelspec": {
   "display_name": "Python 3 (ipykernel)",
   "language": "python",
   "name": "python3"
  },
  "language_info": {
   "codemirror_mode": {
    "name": "ipython",
    "version": 3
   },
   "file_extension": ".py",
   "mimetype": "text/x-python",
   "name": "python",
   "nbconvert_exporter": "python",
   "pygments_lexer": "ipython3",
   "version": "3.9.13"
  }
 },
 "nbformat": 4,
 "nbformat_minor": 5
}
