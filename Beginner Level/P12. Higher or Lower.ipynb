{
 "cells": [
  {
   "cell_type": "markdown",
   "id": "8093fa60",
   "metadata": {},
   "source": [
    "# Higher or Lower\n",
    "\n",
    "- In this game we will be guessing who has more Instagram followers\n",
    "- We will be iterating the choices randomly throughout our pre-defined list of dictionaries and compare between 2 options A & B\n",
    "- After every correct guess, we will be taking our option B and assiging it to A and taking a New option B from our list"
   ]
  },
  {
   "cell_type": "code",
   "execution_count": 10,
   "id": "097b704d",
   "metadata": {},
   "outputs": [],
   "source": [
    "# defining our data and some logo arts for the game\n",
    "from P12_Game_Data import data\n",
    "from P12_Logo_Art import logo, vs\n",
    "import random"
   ]
  },
  {
   "cell_type": "code",
   "execution_count": 11,
   "id": "17aabf84",
   "metadata": {},
   "outputs": [
    {
     "name": "stdout",
     "output_type": "stream",
     "text": [
      "[{'name': 'Instagram', 'follower_count': 346, 'description': 'Social media platform', 'country': 'United States'}, {'name': 'Cristiano Ronaldo', 'follower_count': 215, 'description': 'Footballer', 'country': 'Portugal'}, {'name': 'Ariana Grande', 'follower_count': 183, 'description': 'Musician and actress', 'country': 'United States'}, {'name': 'Dwayne Johnson', 'follower_count': 181, 'description': 'Actor and professional wrestler', 'country': 'United States'}, {'name': 'Selena Gomez', 'follower_count': 174, 'description': 'Musician and actress', 'country': 'United States'}]\n"
     ]
    }
   ],
   "source": [
    "# data preview\n",
    "print(data[0:5])"
   ]
  },
  {
   "cell_type": "markdown",
   "id": "2c699f80",
   "metadata": {},
   "source": [
    "### Defining a function to track and update score:"
   ]
  },
  {
   "cell_type": "code",
   "execution_count": 17,
   "id": "aeaa3faa",
   "metadata": {},
   "outputs": [],
   "source": [
    "def score(followers_a, followers_b, user_input, score):\n",
    "    if user_input == 'a':\n",
    "        if followers_a > followers_b:\n",
    "            print(f\"\\nYou're right! Your current score is: {score + 1}\")\n",
    "            return score + 1\n",
    "        else:\n",
    "            print(f\"\\nYou got it wrong! Your final score is: {score}\")\n",
    "\n",
    "    elif user_input == 'b':\n",
    "        if followers_a < followers_b:\n",
    "            print(f\"\\nYou're right! Your current score is: {score + 1}\")\n",
    "            return score + 1\n",
    "        else:\n",
    "            print(f\"\\nYou got it wrong! Your final score is: {score}\")\n",
    "            return score"
   ]
  },
  {
   "cell_type": "markdown",
   "id": "80c4824f",
   "metadata": {},
   "source": [
    "### Defining the game function:"
   ]
  },
  {
   "cell_type": "code",
   "execution_count": 18,
   "id": "ffc44548",
   "metadata": {},
   "outputs": [],
   "source": [
    "def game():\n",
    "    print(logo)\n",
    "    \n",
    "    # taking random entry from list\n",
    "    a = random.choice(data)\n",
    "\n",
    "    end_game = False\n",
    "\n",
    "    # to keep track of old vs new score\n",
    "    old_score = 0\n",
    "    \n",
    "    while not end_game:\n",
    "        \n",
    "        # generating random choice for Option B but \n",
    "        b = random.choice(data)\n",
    "        # in case it generates the same choice as A:\n",
    "        if a == b:\n",
    "            b = random.choice(data)\n",
    "\n",
    "        print(f\"Compare A: {a['name']}, a {a['description']}, from {a['country']}\")\n",
    "        print(vs)\n",
    "        print(f\"Against B: {b['name']}, a {b['description']}, from {b['country']}\")\n",
    "        \n",
    "        # taking input from user\n",
    "        user_input = input(\"Who has more followers? A or B: \").lower()\n",
    "        \n",
    "        # calling 'score' function defined above and updating the current score\n",
    "        current_score = score(a['follower_count'], b['follower_count'], user_input, old_score)\n",
    "        \n",
    "        # to break the loop and checking current and old score\n",
    "        if current_score > old_score:\n",
    "            # updating old score with current score if it is greater than the previous score as current score \n",
    "            # is updated by calling the above function\n",
    "            old_score += 1\n",
    "            a = b\n",
    "            \n",
    "        # if the guess is wrong, the above function will return the old score and we can compare it with current\n",
    "        # score to break the loop\n",
    "        elif current_score == old_score:\n",
    "            end_game = True"
   ]
  },
  {
   "cell_type": "code",
   "execution_count": 19,
   "id": "4b6ec940",
   "metadata": {},
   "outputs": [
    {
     "name": "stdout",
     "output_type": "stream",
     "text": [
      "\n",
      "    __  ___       __             \n",
      "   / / / (_)___ _/ /_  ___  _____\n",
      "  / /_/ / / __ `/ __ \\/ _ \\/ ___/\n",
      " / __  / / /_/ / / / /  __/ /    \n",
      "/_/ ///_/\\__, /_/ /_/\\___/_/     \n",
      "   / /  /____/_      _____  _____\n",
      "  / /   / __ \\ | /| / / _ \\/ ___/\n",
      " / /___/ /_/ / |/ |/ /  __/ /    \n",
      "/_____/\\____/|__/|__/\\___/_/     \n",
      "\n",
      "Compare A: Jennifer Lopez, a Musician and actress, from United States\n",
      "\n",
      " _    __    \n",
      "| |  / /____\n",
      "| | / / ___/\n",
      "| |/ (__  ) \n",
      "|___/____(_)\n",
      "\n",
      "Against B: Zendaya, a Actress and musician, from United States\n",
      "Who has more followers? A or B: A\n",
      "\n",
      "You're right! Your current score is: 1\n",
      "Compare A: Zendaya, a Actress and musician, from United States\n",
      "\n",
      " _    __    \n",
      "| |  / /____\n",
      "| | / / ___/\n",
      "| |/ (__  ) \n",
      "|___/____(_)\n",
      "\n",
      "Against B: Cristiano Ronaldo, a Footballer, from Portugal\n",
      "Who has more followers? A or B: B\n",
      "\n",
      "You're right! Your current score is: 2\n",
      "Compare A: Cristiano Ronaldo, a Footballer, from Portugal\n",
      "\n",
      " _    __    \n",
      "| |  / /____\n",
      "| | / / ___/\n",
      "| |/ (__  ) \n",
      "|___/____(_)\n",
      "\n",
      "Against B: Vin Diesel, a Actor, from United States\n",
      "Who has more followers? A or B: B\n",
      "\n",
      "You got it wrong! Your final score is: 2\n"
     ]
    }
   ],
   "source": [
    "game()"
   ]
  },
  {
   "cell_type": "code",
   "execution_count": null,
   "id": "4c72e99e",
   "metadata": {},
   "outputs": [],
   "source": []
  }
 ],
 "metadata": {
  "kernelspec": {
   "display_name": "Python 3 (ipykernel)",
   "language": "python",
   "name": "python3"
  },
  "language_info": {
   "codemirror_mode": {
    "name": "ipython",
    "version": 3
   },
   "file_extension": ".py",
   "mimetype": "text/x-python",
   "name": "python",
   "nbconvert_exporter": "python",
   "pygments_lexer": "ipython3",
   "version": "3.9.13"
  }
 },
 "nbformat": 4,
 "nbformat_minor": 5
}
