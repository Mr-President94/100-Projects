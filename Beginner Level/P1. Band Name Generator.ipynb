{
 "cells": [
  {
   "cell_type": "markdown",
   "id": "846c7d57",
   "metadata": {},
   "source": [
    "# Band Name Generator\n",
    "\n",
    "This is a simple **Band Name Generator** program which will take input from user to provide name of the city that they live in and the name of their favorite pet and concatenating them to suggest them a Band Name they would like to keep if they ever think of starting a band.\n",
    "\n",
    "From a technical standpoint, this talks to you about how we can use the `print` function in various ways, `input` function to take inputs from user and storing them in `variables`."
   ]
  },
  {
   "cell_type": "code",
   "execution_count": 1,
   "id": "7907a9eb",
   "metadata": {},
   "outputs": [
    {
     "name": "stdout",
     "output_type": "stream",
     "text": [
      "Welcome!\n"
     ]
    }
   ],
   "source": [
    "# Create a greeting for your program.\n",
    "print('Welcome!')"
   ]
  },
  {
   "cell_type": "code",
   "execution_count": 7,
   "id": "ab5f61b5",
   "metadata": {},
   "outputs": [
    {
     "name": "stdout",
     "output_type": "stream",
     "text": [
      "What is the city that you grew up in?\n",
      "Mumbai\n"
     ]
    }
   ],
   "source": [
    "# Ask the user for the city that they grew up in.\n",
    "city = input('What is the city that you grew up in?\\n')"
   ]
  },
  {
   "cell_type": "markdown",
   "id": "a6f54674",
   "metadata": {},
   "source": [
    " - We take the input from the user and store this input in a variable by using the `input` function\n",
    " - Adding `\\n` at the end will prompt the code to go at next line. Which will then enable the user to type his answer below the question instead of besides it"
   ]
  },
  {
   "cell_type": "code",
   "execution_count": 8,
   "id": "529014b4",
   "metadata": {},
   "outputs": [
    {
     "name": "stdout",
     "output_type": "stream",
     "text": [
      "Name of your pet: \n",
      "Bruno\n"
     ]
    }
   ],
   "source": [
    "# Ask the user for the name of a pet.\n",
    "pet_name = input(\"Name of your pet: \\n\")"
   ]
  },
  {
   "cell_type": "code",
   "execution_count": 9,
   "id": "d98f2747",
   "metadata": {},
   "outputs": [],
   "source": [
    "# Combine the name of their city and pet and show them their band name.\n",
    "band_name = city + \" \" + pet_name"
   ]
  },
  {
   "cell_type": "code",
   "execution_count": 10,
   "id": "40755027",
   "metadata": {},
   "outputs": [
    {
     "name": "stdout",
     "output_type": "stream",
     "text": [
      "Your band name could be:\n",
      "Mumbai Bruno\n"
     ]
    }
   ],
   "source": [
    "# Printing the Band Name\n",
    "print('Your band name could be:\\n' + band_name)"
   ]
  },
  {
   "cell_type": "markdown",
   "id": "61762752",
   "metadata": {},
   "source": [
    "- `+` operator can be used to concatenate strings or variables that contain a string value"
   ]
  }
 ],
 "metadata": {
  "kernelspec": {
   "display_name": "Python 3 (ipykernel)",
   "language": "python",
   "name": "python3"
  },
  "language_info": {
   "codemirror_mode": {
    "name": "ipython",
    "version": 3
   },
   "file_extension": ".py",
   "mimetype": "text/x-python",
   "name": "python",
   "nbconvert_exporter": "python",
   "pygments_lexer": "ipython3",
   "version": "3.9.13"
  }
 },
 "nbformat": 4,
 "nbformat_minor": 5
}
