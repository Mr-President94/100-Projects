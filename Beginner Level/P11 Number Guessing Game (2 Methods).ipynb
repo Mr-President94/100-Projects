{
 "cells": [
  {
   "cell_type": "markdown",
   "id": "e281c3ce",
   "metadata": {},
   "source": [
    "# Guess The Number\n",
    "\n",
    "- This project is a game for guessing the numbers with the flexibility to choose between the number of attempts based on difficulty level selected by user\n",
    "- We will be using `random` library and using `functions` along with `while` loop to achieve this goal\n",
    "- Most importantly, we will also be making use of global variables and scoping"
   ]
  },
  {
   "cell_type": "code",
   "execution_count": 5,
   "id": "c5199a2f",
   "metadata": {},
   "outputs": [],
   "source": [
    "# creating a logo\n",
    "logo = '''\n",
    "   ______                              _  __             ____  _____                    __                     \n",
    " .' ___  |                            / |[  |           |_   \\|_   _|                  [  |                    \n",
    "/ .'   \\_|__   _  .---. .--.  .--.   `| |-| |--. .---.    |   \\ | | __   _  _ .--..--.  | |.--.  .---. _ .--.  \n",
    "| |   ___[  | | |/ /__\\( (`\\]( (`\\]   | | | .-. / /__\\\\   | |\\ \\| |[  | | |[ `.-. .-. | | '/'`\\ / /__\\[ `/'`\\] \n",
    "\\ `.___]  | \\_/ || \\__.,`'.'. `'.'.   | |,| | | | \\__.,  _| |_\\   |_| \\_/ |,| | | | | | |  \\__/ | \\__.,| |     \n",
    " `._____.''.__.'_/'.__.[\\__) [\\__) )  \\__[___]|__'.__.' |_____|\\____'.__.'_[___||__||__[__;.__.' '.__.[___]    \n",
    "                                                                                                               \n",
    "'''"
   ]
  },
  {
   "cell_type": "markdown",
   "id": "76d90276",
   "metadata": {},
   "source": [
    "## Method 1:"
   ]
  },
  {
   "cell_type": "markdown",
   "id": "6e3789b7",
   "metadata": {},
   "source": [
    "### Importing Library and Setting Global Variables for Difficulty:"
   ]
  },
  {
   "cell_type": "code",
   "execution_count": 7,
   "id": "84888446",
   "metadata": {},
   "outputs": [],
   "source": [
    "import random\n",
    "\n",
    "\n",
    "EASY_TURNS = 10\n",
    "HARD_TURNS = 5"
   ]
  },
  {
   "cell_type": "markdown",
   "id": "eff8c733",
   "metadata": {},
   "source": [
    "### Defining function to set the difficulty:"
   ]
  },
  {
   "cell_type": "code",
   "execution_count": 8,
   "id": "7a35902d",
   "metadata": {},
   "outputs": [],
   "source": [
    "def set_difficulty():\n",
    "    \n",
    "    difficulty = input(\"Choose a difficulty: E for Easy, H for Hard: \").lower()\n",
    "    \n",
    "    if difficulty == 'e':\n",
    "        return EASY_TURNS\n",
    "    else:\n",
    "        return HARD_TURNS"
   ]
  },
  {
   "cell_type": "markdown",
   "id": "ed1f1631",
   "metadata": {},
   "source": [
    "### Defining function to compare the results between the guess and the actual number:"
   ]
  },
  {
   "cell_type": "code",
   "execution_count": 9,
   "id": "b64ae319",
   "metadata": {},
   "outputs": [],
   "source": [
    "def compare(guess, number, turns):\n",
    "    if guess < number:\n",
    "        print(\"Too Low\")\n",
    "        return turns - 1\n",
    "    elif guess > number:\n",
    "        print(\"Too High\")\n",
    "        return turns - 1\n",
    "    else:\n",
    "        print(\"You guessed it right! Congratulations!\")\n",
    "        \n",
    "        \n",
    "# Here, we also make sure that the number of turns decrease after each wrong attempt and return that value"
   ]
  },
  {
   "cell_type": "markdown",
   "id": "75728a24",
   "metadata": {},
   "source": [
    "### Defining the main function for our game to carry out repeated tasks and making use of other functions created above:"
   ]
  },
  {
   "cell_type": "code",
   "execution_count": 10,
   "id": "e526b113",
   "metadata": {},
   "outputs": [],
   "source": [
    "def game():\n",
    "    print(f\"Welcome to the Game: \\n{logo}\")\n",
    "    print(\"I am thinking of a number between 1 to 100\")\n",
    "\n",
    "    # generating a random number between 1 to 100\n",
    "    number = random.randint(1, 100)\n",
    "\n",
    "    # using the function defined above to get the \n",
    "    turns = set_difficulty()\n",
    "\n",
    "    guess = 0\n",
    "    # as we cannot use guess directly in while loop, we assign it an initial value of 0 to get started with while loop\n",
    "    \n",
    "    while guess != number:\n",
    "        print(f\"You have {turns} attempts remaining\")\n",
    "        guess = int(input(\"Make a guess: \"))\n",
    "\n",
    "        turns = compare(guess, number, turns)\n",
    "        # this will return the statement based o the guess made from function above as well as the number of turns\n",
    "        # deducted by 1 after every wrong attempt. Our turns global variable declared outside the loop will be \n",
    "        # updated accordingly\n",
    "\n",
    "        \n",
    "        # checking the number of turns left after every attempt\n",
    "        if turns == 0:\n",
    "            print(f\"You Lost! The number was {number}\")\n",
    "            return\n",
    "        elif guess != number:\n",
    "            print(\"Guess again\")"
   ]
  },
  {
   "cell_type": "code",
   "execution_count": 11,
   "id": "ba876208",
   "metadata": {},
   "outputs": [
    {
     "name": "stdout",
     "output_type": "stream",
     "text": [
      "Welcome to the Game: \n",
      "\n",
      "   ______                              _  __             ____  _____                    __                     \n",
      " .' ___  |                            / |[  |           |_   \\|_   _|                  [  |                    \n",
      "/ .'   \\_|__   _  .---. .--.  .--.   `| |-| |--. .---.    |   \\ | | __   _  _ .--..--.  | |.--.  .---. _ .--.  \n",
      "| |   ___[  | | |/ /__\\( (`\\]( (`\\]   | | | .-. / /__\\   | |\\ \\| |[  | | |[ `.-. .-. | | '/'`\\ / /__\\[ `/'`\\] \n",
      "\\ `.___]  | \\_/ || \\__.,`'.'. `'.'.   | |,| | | | \\__.,  _| |_\\   |_| \\_/ |,| | | | | | |  \\__/ | \\__.,| |     \n",
      " `._____.''.__.'_/'.__.[\\__) [\\__) )  \\__[___]|__'.__.' |_____|\\____'.__.'_[___||__||__[__;.__.' '.__.[___]    \n",
      "                                                                                                               \n",
      "\n",
      "I am thinking of a number between 1 to 100\n",
      "Choose a difficulty: E for Easy, H for Hard: E\n",
      "You have 10 attempts remaining\n",
      "Make a guess: 45\n",
      "Too High\n",
      "Guess again\n",
      "You have 9 attempts remaining\n",
      "Make a guess: 33\n",
      "Too Low\n",
      "Guess again\n",
      "You have 8 attempts remaining\n",
      "Make a guess: 38\n",
      "Too Low\n",
      "Guess again\n",
      "You have 7 attempts remaining\n",
      "Make a guess: 41\n",
      "Too High\n",
      "Guess again\n",
      "You have 6 attempts remaining\n",
      "Make a guess: 40\n",
      "You guessed it right! Congratulations!\n"
     ]
    }
   ],
   "source": [
    "# Starting the game\n",
    "game()"
   ]
  },
  {
   "cell_type": "code",
   "execution_count": null,
   "id": "ad467698",
   "metadata": {},
   "outputs": [],
   "source": []
  },
  {
   "cell_type": "markdown",
   "id": "8fe5cf39",
   "metadata": {},
   "source": [
    "## Method 2\n",
    "\n",
    "- This is fairly easy to follow as it makes use of control flow to a greater extent.\n",
    "- But to avoid repititveness, then the method above is more optimized, even though it is longer"
   ]
  },
  {
   "cell_type": "code",
   "execution_count": 12,
   "id": "d6c706e6",
   "metadata": {},
   "outputs": [
    {
     "name": "stdout",
     "output_type": "stream",
     "text": [
      "Welcome to the Game: \n",
      "\n",
      "   ______                              _  __             ____  _____                    __                     \n",
      " .' ___  |                            / |[  |           |_   \\|_   _|                  [  |                    \n",
      "/ .'   \\_|__   _  .---. .--.  .--.   `| |-| |--. .---.    |   \\ | | __   _  _ .--..--.  | |.--.  .---. _ .--.  \n",
      "| |   ___[  | | |/ /__\\( (`\\]( (`\\]   | | | .-. / /__\\   | |\\ \\| |[  | | |[ `.-. .-. | | '/'`\\ / /__\\[ `/'`\\] \n",
      "\\ `.___]  | \\_/ || \\__.,`'.'. `'.'.   | |,| | | | \\__.,  _| |_\\   |_| \\_/ |,| | | | | | |  \\__/ | \\__.,| |     \n",
      " `._____.''.__.'_/'.__.[\\__) [\\__) )  \\__[___]|__'.__.' |_____|\\____'.__.'_[___||__||__[__;.__.' '.__.[___]    \n",
      "                                                                                                               \n",
      "\n",
      "I am thinking of a number between 1 to 100\n",
      "Choose a difficulty: E for Easy, H for Hard: h\n",
      "You have 5 attempts to guess the number\n",
      "Make a guess: 45\n",
      "Make a higher Guess\n",
      "You have 4 attempts to guess the number\n",
      "Make a guess: 77\n",
      "Make a higher Guess\n",
      "You have 3 attempts to guess the number\n",
      "Make a guess: 88\n",
      "You guessed it right! Congratulations!\n"
     ]
    }
   ],
   "source": [
    "print(f\"Welcome to the Game: \\n{logo}\")\n",
    "print(\"I am thinking of a number between 1 to 100\")\n",
    "\n",
    "number = random.randint(1, 100)\n",
    "\n",
    "difficulty = input(\"Choose a difficulty: E for Easy, H for Hard: \").lower()\n",
    "\n",
    "def game():\n",
    "    if difficulty == 'e':\n",
    "        attempts = 10\n",
    "    else:\n",
    "        attempts = 5\n",
    "\n",
    "    end_game = False\n",
    "\n",
    "    while not end_game:\n",
    "        print(f\"You have {attempts} attempts to guess the number\")\n",
    "        guess = int(input(\"Make a guess: \"))\n",
    "\n",
    "        if guess == number:\n",
    "            print(\"You guessed it right! Congratulations!\")\n",
    "            end_game = True\n",
    "        elif guess != number:\n",
    "            attempts -= 1\n",
    "            if attempts == 0:\n",
    "                end_game = True\n",
    "                print(f\"You Lost! The number was: {number}\")\n",
    "\n",
    "            elif attempts > 0:\n",
    "                if guess > number:\n",
    "                    print(\"Make a lower Guess\")\n",
    "                elif guess < number:\n",
    "                    print(\"Make a higher Guess\")\n",
    "\n",
    "\n",
    "game()\n",
    "\n",
    "\n",
    "\n",
    "\n",
    "\n"
   ]
  },
  {
   "cell_type": "code",
   "execution_count": null,
   "id": "f7d60592",
   "metadata": {},
   "outputs": [],
   "source": []
  }
 ],
 "metadata": {
  "kernelspec": {
   "display_name": "Python 3 (ipykernel)",
   "language": "python",
   "name": "python3"
  },
  "language_info": {
   "codemirror_mode": {
    "name": "ipython",
    "version": 3
   },
   "file_extension": ".py",
   "mimetype": "text/x-python",
   "name": "python",
   "nbconvert_exporter": "python",
   "pygments_lexer": "ipython3",
   "version": "3.9.13"
  }
 },
 "nbformat": 4,
 "nbformat_minor": 5
}
