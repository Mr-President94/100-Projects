{
 "cells": [
  {
   "cell_type": "markdown",
   "id": "e1c88f79",
   "metadata": {},
   "source": [
    "# Coffee Machine\n",
    "\n",
    "- This project is a little ambitious as it will include all the knowledge about functions, control flow, global/local variables\n",
    "- The idea behind this project is to build a live Coffee Machine which will be on and continuously ask for what coffee would a user like: Espresso, Latte or a Cappuccino\n",
    "- An interesting catch is that the machine owner uses 2 secret inputs namely 'report' to check the quantity of water, milk and coffee is left and 'off' to switch off the machine, which would basically mean to end the code\n",
    "- We will also be processing coins and prompt the user in case he/she has insufficient coins based on the coffee hs/she chose as well as we willalso be checking if the resources are enough to make the coffee. First we would check the resources and then we would ask for coins."
   ]
  },
  {
   "cell_type": "code",
   "execution_count": 1,
   "id": "91a9b9c3",
   "metadata": {},
   "outputs": [],
   "source": [
    "# importing our data for reference\n",
    "from P13_Coffee_Resources import menu, resources"
   ]
  },
  {
   "cell_type": "markdown",
   "id": "cfc9b715",
   "metadata": {},
   "source": [
    "### Defining the function to process the coins and check the user has enough w.r.t. coffee's cost:"
   ]
  },
  {
   "cell_type": "code",
   "execution_count": 2,
   "id": "ad924899",
   "metadata": {},
   "outputs": [],
   "source": [
    "def process_coins(cost):\n",
    "    print(\"\\nPlease insert coins\")\n",
    "    quarters = int(input(\"How many quarters?: \"))\n",
    "    dimes = int(input(\"How many dimes?: \"))\n",
    "    nickels = int(input(\"How many nickels?: \"))\n",
    "    pennies = int(input(\"How many pennies?: \"))\n",
    "\n",
    "    total_amount = round(((quarters * 0.25) + (dimes * 0.1) + (nickels * 0.05) + (pennies * 0.01)), 2)\n",
    "    return total_amount"
   ]
  },
  {
   "cell_type": "markdown",
   "id": "1ba9f5ea",
   "metadata": {},
   "source": [
    "### Defining a function to deplete resource after dispensing coffee if the transaction is successful:"
   ]
  },
  {
   "cell_type": "code",
   "execution_count": 3,
   "id": "f5e56424",
   "metadata": {},
   "outputs": [],
   "source": [
    "def check_resources(ingredients):\n",
    "    for item in ingredients:\n",
    "        if resources[item] - ingredients[item] < 0:\n",
    "            print(f\"Sorry! Not enough {item}.\")\n",
    "            return False\n",
    "    return True"
   ]
  },
  {
   "cell_type": "markdown",
   "id": "9012980f",
   "metadata": {},
   "source": [
    "### Defining the Coffee Machine Function"
   ]
  },
  {
   "cell_type": "code",
   "execution_count": 4,
   "id": "3faf05c7",
   "metadata": {},
   "outputs": [],
   "source": [
    "def coffee_machine():\n",
    "    \n",
    "    power_off = False\n",
    "    money = 0            # adding money to our machine after user buys a coffee\n",
    "\n",
    "    while not power_off:\n",
    "\n",
    "        user_input = input(\"What would you like to have?\\nEspresso, Latte or a Cappuccino?: \").lower()\n",
    "        \n",
    "        # printing out the resources\n",
    "        if user_input == 'report':\n",
    "            for item in resources:\n",
    "                print(f\"{item.title()}: {resources[item]}\")\n",
    "            print(f\"Money: {money}\\n\")\n",
    "        \n",
    "        # ending the loop in case we need to turn off the machine\n",
    "        elif user_input == 'off':\n",
    "            power_off = True\n",
    "        \n",
    "        # making coffee\n",
    "        else:\n",
    "            \n",
    "            # accessing the 'menu' dictionary based on user input\n",
    "            coffee_ingredients = menu[user_input]['ingredients']       \n",
    "            coffee_cost = menu[user_input]['cost']\n",
    "            \n",
    "            # checking if we have the resources in the machine to make the coffee of users choice\n",
    "            if check_resources(coffee_ingredients):\n",
    "                \n",
    "                # accesing the amount based on user's coin input\n",
    "                amount_given = process_coins(coffee_cost)\n",
    "                \n",
    "                # making the coffee if amount is higher than the coffee cost and depleting resources in the machine\n",
    "                if amount_given > coffee_cost:\n",
    "                    change = amount_given - coffee_cost\n",
    "                    print(f\"Here's your change: ${change}\")\n",
    "                    print(f\"Here's your {user_input.title()}. Enjoy!\\n\")\n",
    "                    for item in coffee_ingredients:\n",
    "                        resources[item] -= coffee_ingredients[item]\n",
    "                    money += coffee_cost # adding money based on coffee's cost to the machine\n",
    "\n",
    "                else:\n",
    "                    print(\"Sorry! Not enough coins. Money is refunded.\\n\")"
   ]
  },
  {
   "cell_type": "code",
   "execution_count": 5,
   "id": "da8e436a",
   "metadata": {},
   "outputs": [
    {
     "name": "stdout",
     "output_type": "stream",
     "text": [
      "What would you like to have?\n",
      "Espresso, Latte or a Cappuccino?: Report\n",
      "Water: 300\n",
      "Milk: 200\n",
      "Coffee: 100\n",
      "Money: 0\n",
      "\n",
      "What would you like to have?\n",
      "Espresso, Latte or a Cappuccino?: Latte\n",
      "\n",
      "Please insert coins\n",
      "How many quarters?: 12\n",
      "How many dimes?: 12\n",
      "How many nickels?: 12\n",
      "How many pennies?: 12\n",
      "Here's your change: $2.42\n",
      "Here's your Latte. Enjoy!\n",
      "\n",
      "What would you like to have?\n",
      "Espresso, Latte or a Cappuccino?: Report\n",
      "Water: 100\n",
      "Milk: 50\n",
      "Coffee: 76\n",
      "Money: 2.5\n",
      "\n",
      "What would you like to have?\n",
      "Espresso, Latte or a Cappuccino?: Cappuccino\n",
      "Sorry! Not enough water.\n",
      "What would you like to have?\n",
      "Espresso, Latte or a Cappuccino?: Espresso\n",
      "\n",
      "Please insert coins\n",
      "How many quarters?: 1\n",
      "How many dimes?: 1\n",
      "How many nickels?: 1\n",
      "How many pennies?: 1\n",
      "Sorry! Not enough coins. Money is refunded.\n",
      "\n",
      "What would you like to have?\n",
      "Espresso, Latte or a Cappuccino?: Off\n"
     ]
    }
   ],
   "source": [
    "# executing the coffee machine\n",
    "coffee_machine()"
   ]
  },
  {
   "cell_type": "code",
   "execution_count": null,
   "id": "1441635f",
   "metadata": {},
   "outputs": [],
   "source": []
  }
 ],
 "metadata": {
  "kernelspec": {
   "display_name": "Python 3 (ipykernel)",
   "language": "python",
   "name": "python3"
  },
  "language_info": {
   "codemirror_mode": {
    "name": "ipython",
    "version": 3
   },
   "file_extension": ".py",
   "mimetype": "text/x-python",
   "name": "python",
   "nbconvert_exporter": "python",
   "pygments_lexer": "ipython3",
   "version": "3.9.13"
  }
 },
 "nbformat": 4,
 "nbformat_minor": 5
}
