{
 "cells": [
  {
   "cell_type": "markdown",
   "id": "fed9ed08",
   "metadata": {},
   "source": [
    "# Secret Auction\n",
    "\n",
    "- This project mainly focuses on dictionaries and how can you add dictionaries to a list as its elements\n",
    "- We will be taking inputs from users about their bids, and store that entry in a dictionary and all these entries will be stored in a list\n",
    "- We will also be keeping each entry a secret in such a way that if there is a new bidder, the previous bidder will type \"Yes\" and the next person won't be able to see what he/she entered\n",
    "- Then we will be taking the maximum bid value from that list of dictionaries, and fetch the name associated to that bid"
   ]
  },
  {
   "cell_type": "code",
   "execution_count": 1,
   "id": "f5f75557",
   "metadata": {},
   "outputs": [],
   "source": [
    "# gavel logo:\n",
    "gavel = '''\n",
    "                         ___________\n",
    "                         \\         /\n",
    "                          )_______(\n",
    "                          |\"\"\"\"\"\"\"|_.-._,.---------.,_.-._\n",
    "                          |       | | |               | | ''-.\n",
    "                          |       |_| |_             _| |_..-'\n",
    "                          |_______| '-' `'---------'` '-'\n",
    "                          )\"\"\"\"\"\"\"(\n",
    "                         /_________\\\\\n",
    "                       .-------------.\n",
    "                      /_______________\\\\\n",
    "'''"
   ]
  },
  {
   "cell_type": "code",
   "execution_count": 3,
   "id": "784f093f",
   "metadata": {},
   "outputs": [
    {
     "name": "stdout",
     "output_type": "stream",
     "text": [
      "Thank you all for participating.\n",
      "The winner is: Aakash\n",
      "\n",
      "                         ___________\n",
      "                         \\         /\n",
      "                          )_______(\n",
      "                          |\"\"\"\"\"\"\"|_.-._,.---------.,_.-._\n",
      "                          |       | | |               | | ''-.\n",
      "                          |       |_| |_             _| |_..-'\n",
      "                          |_______| '-' `'---------'` '-'\n",
      "                          )\"\"\"\"\"\"\"(\n",
      "                         /_________\\\n",
      "                       .-------------.\n",
      "                      /_______________\\\n",
      "\n"
     ]
    }
   ],
   "source": [
    "# library to clear console\n",
    "from IPython.display import clear_output\n",
    "\n",
    "print(gavel)\n",
    "\n",
    "print(\"Welcome to Secret Auction!\")\n",
    "\n",
    "bid_list = []\n",
    "\n",
    "def bid(person, bid_amount):\n",
    "    new_entry = {\"name\": person, \"bid\": bid_amount}\n",
    "    bid_list.append(new_entry)\n",
    "\n",
    "\n",
    "end_auction = False\n",
    "\n",
    "while not end_auction:\n",
    "    get_name = input(\"What is your name?: \")\n",
    "    get_bid = int(input(\"What is your bid amount?: $\"))\n",
    "\n",
    "    bid(get_name, get_bid)\n",
    "\n",
    "    another_bid = input(\"Is there another bidder? Yes or No?: \").lower()\n",
    "    \n",
    "    if another_bid == \"no\":\n",
    "        end_auction = True\n",
    "        clear_output()\n",
    "        # output console gets clear after each input of Yes or No. \n",
    "        # User check if there is another bidder, if so, \n",
    "        # another input will be taken if its a Yes then that entry gets added to the list.\n",
    "        # If the input is No, the result gets calculated. In no way a user will be able to see other person's input\n",
    "        \n",
    "    else:\n",
    "      clear_output()\n",
    "\n",
    "all_bids = []\n",
    "for x in range(len(bid_list)):\n",
    "    all_bids.append(bid_list[x][\"bid\"])\n",
    "\n",
    "max_bid = max(all_bids)\n",
    "\n",
    "winner_name = \"\"\n",
    "for x in range(len(bid_list)):\n",
    "    if max_bid == bid_list[x][\"bid\"]:\n",
    "        winner_name += bid_list[x][\"name\"]\n",
    "\n",
    "print(f\"Thank you all for participating.\\nThe winner is: {winner_name}\\n{gavel}\")\n",
    "\n"
   ]
  },
  {
   "cell_type": "code",
   "execution_count": 4,
   "id": "c75a1d20",
   "metadata": {},
   "outputs": [
    {
     "name": "stdout",
     "output_type": "stream",
     "text": [
      "[{'name': 'Rohit', 'bid': 200}, {'name': 'Aakash', 'bid': 300}, {'name': 'Sushant', 'bid': 100}]\n"
     ]
    }
   ],
   "source": [
    "# to confirm the result above\n",
    "print(bid_list)"
   ]
  }
 ],
 "metadata": {
  "kernelspec": {
   "display_name": "Python 3 (ipykernel)",
   "language": "python",
   "name": "python3"
  },
  "language_info": {
   "codemirror_mode": {
    "name": "ipython",
    "version": 3
   },
   "file_extension": ".py",
   "mimetype": "text/x-python",
   "name": "python",
   "nbconvert_exporter": "python",
   "pygments_lexer": "ipython3",
   "version": "3.9.13"
  }
 },
 "nbformat": 4,
 "nbformat_minor": 5
}
